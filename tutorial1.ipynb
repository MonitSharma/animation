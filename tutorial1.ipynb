{
 "cells": [
  {
   "cell_type": "markdown",
   "metadata": {},
   "source": [
    "### How to Run Manim on Jupyter Notebook?"
   ]
  },
  {
   "cell_type": "markdown",
   "metadata": {},
   "source": [
    "Run the below code as it is:"
   ]
  },
  {
   "cell_type": "code",
   "execution_count": null,
   "metadata": {},
   "outputs": [],
   "source": [
    "!sudo apt update\n",
    "!sudo apt install libcairo2-dev ffmpeg \\\n",
    "    texlive texlive-latex-extra texlive-fonts-extra \\\n",
    "    texlive-latex-recommended texlive-science \\\n",
    "    tipa libpango1.0-dev\n",
    "!sudo apt install libcairo2-dev ffmpeg texlive texlive-latex-extra texlive-fonts-extra texlive-latex-recommended texlive-science tipa libpango1.0-dev\n",
    "\n",
    "!pip install manim\n",
    "!pip install IPython --upgrade"
   ]
  },
  {
   "cell_type": "markdown",
   "metadata": {},
   "source": [
    "Then restart the runtime"
   ]
  },
  {
   "cell_type": "code",
   "execution_count": 1,
   "metadata": {},
   "outputs": [
    {
     "data": {
      "text/html": [
       "<pre style=\"white-space:pre;overflow-x:auto;line-height:normal;font-family:Menlo,'DejaVu Sans Mono',consolas,'Courier New',monospace\">Manim Community <span style=\"color: #008000; text-decoration-color: #008000\">v0.18.0</span>\n",
       "\n",
       "</pre>\n"
      ],
      "text/plain": [
       "Manim Community \u001b[32mv0.\u001b[0m\u001b[32m18.0\u001b[0m\n",
       "\n"
      ]
     },
     "metadata": {},
     "output_type": "display_data"
    }
   ],
   "source": [
    "from manim import *\n",
    "import numpy as np"
   ]
  },
  {
   "cell_type": "code",
   "execution_count": 2,
   "metadata": {},
   "outputs": [
    {
     "name": "stderr",
     "output_type": "stream",
     "text": [
      "                                                                                    \r"
     ]
    },
    {
     "data": {
      "text/html": [
       "<video src=\"media/jupyter/OrbitScene@2023-12-16@11-31-00.mp4\" controls autoplay loop style=\"max-width: 60%;\"  >\n",
       "      Your browser does not support the <code>video</code> element.\n",
       "    </video>"
      ],
      "text/plain": [
       "<IPython.core.display.Video object>"
      ]
     },
     "metadata": {},
     "output_type": "display_data"
    }
   ],
   "source": [
    "%%manim -qm -v WARNING OrbitScene\n",
    "\n",
    "\n",
    "class OrbitScene(ThreeDScene):\n",
    "    def construct(self):\n",
    "        # Create orbits\n",
    "        earth_orbit = Circle(radius=2, color=BLUE, fill_opacity=0.2)\n",
    "        moon_orbit = Circle(radius=8, color=WHITE, fill_opacity=0.2)\n",
    "        self.play(Create(earth_orbit), Create(moon_orbit))\n",
    "\n",
    "        # Add Earth and Moon\n",
    "        earth = Dot(ORIGIN, color=BLUE)\n",
    "        moon = Dot(8 * RIGHT, color=WHITE)\n",
    "        self.play(Create(earth), Create(moon))\n",
    "\n",
    "        # Animation for satellite transition\n",
    "        satellite = Dot(2 * RIGHT, color=GREEN)\n",
    "        self.play(Create(satellite))\n",
    "\n",
    "        # Animate satellite moving from Earth to Moon\n",
    "        self.play(\n",
    "            satellite.animate.move_to(moon.get_center()),\n",
    "            rate_func=linear,\n",
    "            run_time=3\n",
    "        )\n",
    "\n",
    "        self.wait()\n",
    "\n"
   ]
  },
  {
   "cell_type": "markdown",
   "metadata": {},
   "source": [
    "### Square Rotation"
   ]
  },
  {
   "cell_type": "code",
   "execution_count": 5,
   "metadata": {},
   "outputs": [
    {
     "name": "stderr",
     "output_type": "stream",
     "text": [
      "                                                                   \r"
     ]
    },
    {
     "data": {
      "text/html": [
       "<video src=\"media/jupyter/SquareRotation@2023-12-16@11-32-03.mp4\" controls autoplay loop style=\"max-width: 60%;\"  >\n",
       "      Your browser does not support the <code>video</code> element.\n",
       "    </video>"
      ],
      "text/plain": [
       "<IPython.core.display.Video object>"
      ]
     },
     "metadata": {},
     "output_type": "display_data"
    }
   ],
   "source": [
    "%%manim -qm -v WARNING SquareRotation\n",
    "\n",
    "class SquareRotation(Scene):\n",
    "    def construct(self):\n",
    "        # Create a square\n",
    "        square = Square(side_length=2, color=BLUE)\n",
    "\n",
    "        # Display the square\n",
    "        self.play(Create(square))\n",
    "\n",
    "        # Rotate the square\n",
    "        self.play(Rotate(square, angle=np.pi/2))\n",
    "\n",
    "        # Wait for a moment\n",
    "        self.wait()\n",
    "\n"
   ]
  },
  {
   "cell_type": "markdown",
   "metadata": {},
   "source": [
    "### Moving Circle"
   ]
  },
  {
   "cell_type": "code",
   "execution_count": 6,
   "metadata": {},
   "outputs": [
    {
     "name": "stderr",
     "output_type": "stream",
     "text": [
      "                                                                             \r"
     ]
    },
    {
     "data": {
      "text/html": [
       "<video src=\"media/jupyter/MovingCircle@2023-12-16@11-32-40.mp4\" controls autoplay loop style=\"max-width: 60%;\"  >\n",
       "      Your browser does not support the <code>video</code> element.\n",
       "    </video>"
      ],
      "text/plain": [
       "<IPython.core.display.Video object>"
      ]
     },
     "metadata": {},
     "output_type": "display_data"
    }
   ],
   "source": [
    "%%manim -qm -v WARNING MovingCircle\n",
    "\n",
    "class MovingCircle(Scene):\n",
    "    def construct(self):\n",
    "        # Create a circle\n",
    "        circle = Circle(radius=1, color=RED)\n",
    "\n",
    "        # Display the circle\n",
    "        self.play(Create(circle))\n",
    "\n",
    "        # Move the circle\n",
    "        self.play(circle.animate.shift(RIGHT))\n",
    "\n",
    "        # Wait for a moment\n",
    "        self.wait()\n"
   ]
  },
  {
   "cell_type": "code",
   "execution_count": 8,
   "metadata": {},
   "outputs": [
    {
     "name": "stderr",
     "output_type": "stream",
     "text": [
      "                                                                                  \r"
     ]
    },
    {
     "data": {
      "text/html": [
       "<video src=\"media/jupyter/FadingText@2023-12-16@11-57-43.mp4\" controls autoplay loop style=\"max-width: 60%;\"  >\n",
       "      Your browser does not support the <code>video</code> element.\n",
       "    </video>"
      ],
      "text/plain": [
       "<IPython.core.display.Video object>"
      ]
     },
     "metadata": {},
     "output_type": "display_data"
    }
   ],
   "source": [
    "%%manim -qm -v WARNING FadingText\n",
    "\n",
    "class FadingText(Scene):\n",
    "    def construct(self):\n",
    "        # Create the text\n",
    "        text = Tex(\"Hello, Manim!\", color=WHITE).scale(2)\n",
    "\n",
    "        # Fade in the text\n",
    "        self.play(FadeIn(text))\n",
    "\n",
    "        # Wait for a moment\n",
    "        self.wait(2)\n",
    "\n",
    "        # Fade out the text\n",
    "        self.play(FadeOut(text))\n",
    "\n",
    "        # Wait for a moment\n",
    "        self.wait()\n"
   ]
  },
  {
   "cell_type": "code",
   "execution_count": null,
   "metadata": {},
   "outputs": [],
   "source": []
  }
 ],
 "metadata": {
  "kernelspec": {
   "display_name": "venv",
   "language": "python",
   "name": "python3"
  },
  "language_info": {
   "codemirror_mode": {
    "name": "ipython",
    "version": 3
   },
   "file_extension": ".py",
   "mimetype": "text/x-python",
   "name": "python",
   "nbconvert_exporter": "python",
   "pygments_lexer": "ipython3",
   "version": "3.11.7"
  }
 },
 "nbformat": 4,
 "nbformat_minor": 2
}
